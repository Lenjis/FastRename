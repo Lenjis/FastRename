{
 "cells": [
  {
   "cell_type": "code",
   "execution_count": 4,
   "metadata": {},
   "outputs": [],
   "source": [
    "import os\n",
    "import random\n",
    "import FastRename\n",
    "\n",
    "path1 = \"Test1_100\"\n",
    "path2 = \"Test2_200\""
   ]
  },
  {
   "cell_type": "code",
   "execution_count": 5,
   "metadata": {},
   "outputs": [],
   "source": [
    "for i in range(100):\n",
    "    A = random.uniform(100000, 1000000)\n",
    "    A = round(A, 4)\n",
    "    name = str(i) + \"A_\" + str(A)\n",
    "    os.makedirs(os.path.join(path1, \"input\", name))\n",
    "    os.makedirs(os.path.join(path1, \"output\", name))\n",
    "\n",
    "for i in range(200):\n",
    "    A = random.uniform(100000, 1000000)\n",
    "    A = round(A, 4)\n",
    "    name = str(i) + \"A_\" + str(A)\n",
    "    os.makedirs(os.path.join(path2, \"input\", name))\n",
    "    os.makedirs(os.path.join(path2, \"output\", name))"
   ]
  },
  {
   "cell_type": "code",
   "execution_count": 6,
   "metadata": {},
   "outputs": [
    {
     "name": "stdout",
     "output_type": "stream",
     "text": [
      "Merging files...\n",
      "Removing the index...\n",
      "Re-adding the index...\n"
     ]
    }
   ],
   "source": [
    "FastRename.MergeAndRename(path1, path2)"
   ]
  }
 ],
 "metadata": {
  "kernelspec": {
   "display_name": "base",
   "language": "python",
   "name": "python3"
  },
  "language_info": {
   "codemirror_mode": {
    "name": "ipython",
    "version": 3
   },
   "file_extension": ".py",
   "mimetype": "text/x-python",
   "name": "python",
   "nbconvert_exporter": "python",
   "pygments_lexer": "ipython3",
   "version": "3.12.7"
  }
 },
 "nbformat": 4,
 "nbformat_minor": 2
}
